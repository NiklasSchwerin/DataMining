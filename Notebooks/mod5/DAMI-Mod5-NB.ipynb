{
 "cells": [
  {
   "cell_type": "markdown",
   "metadata": {},
   "source": [
    "# Re-doing the Iris analysis - Using a Naive Bayes Classifier"
   ]
  },
  {
   "cell_type": "markdown",
   "metadata": {},
   "source": [
    "## Introduction\n",
    "\n",
    "In this notebook I will re-do the Iris data analysis using a naive Bayes classifier. I will collect pieces and snippets from our [textbook](http://bit.ly/2xoFamE) and combine them in my own classification of the Iris data set using a naive Bayes classifier.\n",
    "\n",
    "I will setup the analysis using the generic Scikit-Learn steps as explained in the book. I will explain each step in a markdown cell, using my own words."
   ]
  },
  {
   "cell_type": "markdown",
   "metadata": {},
   "source": [
    "## Research question\n",
    "Can I predict the species of various types of iris flowers based on the different length and width of the petal and sepal leafs? Which information is better to predict with?"
   ]
  },
  {
   "cell_type": "markdown",
   "metadata": {},
   "source": [
    "## Analysis\n",
    "I try to assign a flower to its iris species by using the classifiers petal and sepal. Furthermore I want to know which information gives the most significant data."
   ]
  },
  {
   "cell_type": "markdown",
   "metadata": {},
   "source": [
    "### 1. load the iris data set (see Introducing Scikit-Learn)\n",
    "The data set is about different species of iris flowers with their sepal length and width such as the pedal length and width. The data set \"iris\" is gathered from the seaborn package which contains several data sets."
   ]
  },
  {
   "cell_type": "code",
   "execution_count": 1,
   "metadata": {
    "collapsed": true
   },
   "outputs": [],
   "source": [
    "import numpy as np\n",
    "#import plotting library\n",
    "import matplotlib.pyplot as plt\n",
    "#import scikit-learn for classification\n",
    "from sklearn import svm, datasets\n",
    "\n",
    "#load the dataset\n",
    "iris = datasets.load_iris();"
   ]
  },
  {
   "cell_type": "markdown",
   "metadata": {},
   "source": [
    "### 2. create a feature matrix X and a target array y from the data set\n",
    "The feature matrix \"X_iris\" is the data set of our iris flowers without the column \"species\". So it is just the data we need to classify the species. \"y_iris\" is our target matrix which means that it is the name of our species gathered from the data set of our iris flowers. We do this to properly analyze the species data and can assign the species name to them."
   ]
  },
  {
   "cell_type": "code",
   "execution_count": 2,
   "metadata": {
    "collapsed": true
   },
   "outputs": [],
   "source": [
    "#exclude column 4; only select petal data\n",
    "Xpetal = iris.data[:, 2:4]\n",
    "#species as our target set\n",
    "Ypetal = iris.target\n",
    "\n",
    "#excludes column 2; only select sepal data\n",
    "Xsepal = iris.data[:,:2]\n",
    "#species as our target set\n",
    "Ysepal = iris.target"
   ]
  },
  {
   "cell_type": "markdown",
   "metadata": {},
   "source": [
    "### 3. split the data in a test and train set\n",
    "I split the data in a test and a train set to first train the algorithms on the train set and then apply it on the test set to get results. By trial and error I found out that the best accuracy is to define the test set size of 0.3 for sepal data and 0.1 for petal data."
   ]
  },
  {
   "cell_type": "code",
   "execution_count": 8,
   "metadata": {},
   "outputs": [],
   "source": [
    "#import train_test_split from scikit-learn\n",
    "from sklearn.cross_validation import train_test_split\n",
    "#petal\n",
    "Xpetal_learn, Xpetal_test, Ypetal_learn, Ypetal_test = train_test_split(Xpetal, Ypetal, test_size=0.1, random_state = 0)\n",
    "\n",
    "#sepal\n",
    "Xsepal_learn, Xsepal_test, Ysepal_learn, Ysepal_test = train_test_split(Xsepal, Ysepal, test_size=0.3, random_state = 0)"
   ]
  },
  {
   "cell_type": "markdown",
   "metadata": {},
   "source": [
    "### 4. fit the model using the train set, applying the naive Bayes classifier\n",
    "I use the Naive Bayes import of scikit-learn and fit it to the sepal and petal data."
   ]
  },
  {
   "cell_type": "code",
   "execution_count": 5,
   "metadata": {},
   "outputs": [
    {
     "data": {
      "text/plain": [
       "GaussianNB(priors=None)"
      ]
     },
     "execution_count": 5,
     "metadata": {},
     "output_type": "execute_result"
    }
   ],
   "source": [
    "from sklearn.naive_bayes import GaussianNB\n",
    "model = GaussianNB()\n",
    "model.fit(Xpetal_learn, Ypetal_learn)\n",
    "model.fit(Xsepal_learn, Ysepal_learn)"
   ]
  },
  {
   "cell_type": "markdown",
   "metadata": {},
   "source": [
    "### 5. evaluate the model by predicting the test set\n",
    "[_describe how you are going to evaluate the results of your classifier and what it means_]"
   ]
  },
  {
   "cell_type": "code",
   "execution_count": 9,
   "metadata": {},
   "outputs": [
    {
     "name": "stdout",
     "output_type": "stream",
     "text": [
      "[1 1 1 1 1 1 2 1 1 1 1 1 1 1 1]\n",
      "[2 1 0 2 0 2 0 1 1 1 2 1 1 1 1]\n",
      "Accuracy with petal is:  0.533333333333\n"
     ]
    },
    {
     "data": {
      "image/png": "[encoded data removed]",
      "text/plain": [
       "<matplotlib.figure.Figure at 0x22e1fa689e8>"
      ]
     },
     "metadata": {},
     "output_type": "display_data"
    },
    {
     "name": "stdout",
     "output_type": "stream",
     "text": [
      "[1 1 0 2 0 2 0 2 2 1 1 2 1 2 1 0 1 1 0 0 1 1 0 0 1 0 0 1 1 0 2 1 0 1 2 1 0\n",
      " 1 1 1 2 0 2 0 0]\n",
      "[2 1 0 2 0 2 0 1 1 1 2 1 1 1 1 0 1 1 0 0 2 1 0 0 2 0 0 1 1 0 2 1 0 2 2 1 0\n",
      " 1 1 1 2 0 2 0 0]\n",
      "Accuracy of prediction with sepal is:  0.8\n"
     ]
    },
    {
     "data": {
      "image/png": "[encoded data removed]",
      "text/plain": [
       "<matplotlib.figure.Figure at 0x22e1f98fc88>"
      ]
     },
     "metadata": {},
     "output_type": "display_data"
    }
   ],
   "source": [
    "#import to display the accuracy\n",
    "from sklearn.metrics import accuracy_score\n",
    "#predict the result for the petal\n",
    "resultPetal = model.predict(Xpetal_test)\n",
    "#print the predicted result and the result of test set\n",
    "print(resultPetal)\n",
    "print(Ypetal_test)\n",
    "\n",
    "#print the accuracy of the petal prediction\n",
    "print(\"Accuracy with petal is: \", accuracy_score(Ypetal_test, resultPetal))\n",
    "\n",
    "target_names = iris.target_names\n",
    "plt.figure()\n",
    "plt.title(\"Naive Bayes with petal data\")\n",
    "colors = ['navy', 'turquoise', 'darkorange']\n",
    "lw = 2\n",
    "for color, i, target_name in zip(colors, [0, 1, 2], target_names):\n",
    "    plt.scatter(Xpetal[Ypetal == i, 0], Xpetal[Ypetal == i, 1], color=color, alpha=.8, lw=lw,\n",
    "                label=target_name)\n",
    "plt.legend(loc='best', shadow=False, scatterpoints=1)\n",
    "\n",
    "plt.show()\n",
    "\n",
    "#sepal\n",
    "resultSepal = model.predict(Xsepal_test)\n",
    "print(resultSepal)\n",
    "print(Ysepal_test)\n",
    "\n",
    "\n",
    "print(\"Accuracy of prediction with sepal is: \", accuracy_score(Ysepal_test, resultSepal))\n",
    "\n",
    "target_names = iris.target_names\n",
    "plt.figure()\n",
    "plt.title(\"Naive Bayes with sepal data\")\n",
    "colors = ['navy', 'turquoise', 'darkorange']\n",
    "lw = 2\n",
    "for color, i, target_name in zip(colors, [0, 1, 2], target_names):\n",
    "    plt.scatter(Xsepal[Ysepal == i, 0], Xsepal[Ysepal == i, 1], color=color, alpha=.8, lw=lw,\n",
    "                label=target_name)\n",
    "plt.legend(loc='best', shadow=False, scatterpoints=1)\n",
    "\n",
    "plt.show()"
   ]
  },
  {
   "cell_type": "markdown",
   "metadata": {},
   "source": [
    "## Discussion of result\n",
    "10% of the test data of the petal gives the highest accuracy of 53,3% correct predictions which is inaccurate. 30% of the test data of the sepal gives the highest accuracy of 80% correct predictions which is way more accurate in predicting the species. I can now assume that the sepal data is better in predicting the species of iris. This answers my research questions properly."
   ]
  },
  {
   "cell_type": "markdown",
   "metadata": {},
   "source": [
    "## Comparison of classifiers\n",
    "SVM performs with the help of the same amount of training and test data equal to the Naive Bayes which brings me to the assumption that it makes no difference which algorithm is used in this case."
   ]
  }
 ],
 "metadata": {
  "kernelspec": {
   "display_name": "Python 3",
   "language": "python",
   "name": "python3"
  },
  "language_info": {
   "codemirror_mode": {
    "name": "ipython",
    "version": 3
   },
   "file_extension": ".py",
   "mimetype": "text/x-python",
   "name": "python",
   "nbconvert_exporter": "python",
   "pygments_lexer": "ipython3",
   "version": "3.6.1"
  }
 },
 "nbformat": 4,
 "nbformat_minor": 2
}
